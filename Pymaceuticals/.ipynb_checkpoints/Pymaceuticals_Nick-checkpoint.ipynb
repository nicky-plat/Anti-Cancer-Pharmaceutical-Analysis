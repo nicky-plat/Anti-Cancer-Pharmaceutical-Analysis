{
 "cells": [
  {
   "cell_type": "markdown",
   "id": "resistant-mortality",
   "metadata": {},
   "source": [
    "# Pymaceuticals: Capomulin Observations and Insights"
   ]
  },
  {
   "cell_type": "markdown",
   "id": "sapphire-raleigh",
   "metadata": {},
   "source": [
    "Based upon the data below I can draw the following conclusions about the Pymaceuticals testing of the effectiveness of Capomulin against other drugs:\n",
    "\n",
    "1. \n",
    "\n",
    "2. \n",
    "\n",
    "3. \n",
    "\n",
    "Please see the tables below for a detailed analysis of the Pymaceuticals testing data."
   ]
  },
  {
   "cell_type": "markdown",
   "id": "foreign-malta",
   "metadata": {},
   "source": [
    "# Dependencies and Setup"
   ]
  },
  {
   "cell_type": "code",
   "execution_count": 1,
   "id": "passive-olympus",
   "metadata": {},
   "outputs": [
    {
     "data": {
      "text/html": [
       "<div>\n",
       "<style scoped>\n",
       "    .dataframe tbody tr th:only-of-type {\n",
       "        vertical-align: middle;\n",
       "    }\n",
       "\n",
       "    .dataframe tbody tr th {\n",
       "        vertical-align: top;\n",
       "    }\n",
       "\n",
       "    .dataframe thead th {\n",
       "        text-align: right;\n",
       "    }\n",
       "</style>\n",
       "<table border=\"1\" class=\"dataframe\">\n",
       "  <thead>\n",
       "    <tr style=\"text-align: right;\">\n",
       "      <th></th>\n",
       "      <th>Mouse ID</th>\n",
       "      <th>Drug Regimen</th>\n",
       "      <th>Sex</th>\n",
       "      <th>Age_months</th>\n",
       "      <th>Weight (g)</th>\n",
       "      <th>Timepoint</th>\n",
       "      <th>Tumor Volume (mm3)</th>\n",
       "      <th>Metastatic Sites</th>\n",
       "    </tr>\n",
       "  </thead>\n",
       "  <tbody>\n",
       "    <tr>\n",
       "      <th>0</th>\n",
       "      <td>k403</td>\n",
       "      <td>Ramicane</td>\n",
       "      <td>Male</td>\n",
       "      <td>21</td>\n",
       "      <td>16</td>\n",
       "      <td>0</td>\n",
       "      <td>45.000000</td>\n",
       "      <td>0</td>\n",
       "    </tr>\n",
       "    <tr>\n",
       "      <th>1</th>\n",
       "      <td>k403</td>\n",
       "      <td>Ramicane</td>\n",
       "      <td>Male</td>\n",
       "      <td>21</td>\n",
       "      <td>16</td>\n",
       "      <td>5</td>\n",
       "      <td>38.825898</td>\n",
       "      <td>0</td>\n",
       "    </tr>\n",
       "    <tr>\n",
       "      <th>2</th>\n",
       "      <td>k403</td>\n",
       "      <td>Ramicane</td>\n",
       "      <td>Male</td>\n",
       "      <td>21</td>\n",
       "      <td>16</td>\n",
       "      <td>10</td>\n",
       "      <td>35.014271</td>\n",
       "      <td>1</td>\n",
       "    </tr>\n",
       "    <tr>\n",
       "      <th>3</th>\n",
       "      <td>k403</td>\n",
       "      <td>Ramicane</td>\n",
       "      <td>Male</td>\n",
       "      <td>21</td>\n",
       "      <td>16</td>\n",
       "      <td>15</td>\n",
       "      <td>34.223992</td>\n",
       "      <td>1</td>\n",
       "    </tr>\n",
       "    <tr>\n",
       "      <th>4</th>\n",
       "      <td>k403</td>\n",
       "      <td>Ramicane</td>\n",
       "      <td>Male</td>\n",
       "      <td>21</td>\n",
       "      <td>16</td>\n",
       "      <td>20</td>\n",
       "      <td>32.997729</td>\n",
       "      <td>1</td>\n",
       "    </tr>\n",
       "    <tr>\n",
       "      <th>...</th>\n",
       "      <td>...</td>\n",
       "      <td>...</td>\n",
       "      <td>...</td>\n",
       "      <td>...</td>\n",
       "      <td>...</td>\n",
       "      <td>...</td>\n",
       "      <td>...</td>\n",
       "      <td>...</td>\n",
       "    </tr>\n",
       "    <tr>\n",
       "      <th>1888</th>\n",
       "      <td>z969</td>\n",
       "      <td>Naftisol</td>\n",
       "      <td>Male</td>\n",
       "      <td>9</td>\n",
       "      <td>30</td>\n",
       "      <td>25</td>\n",
       "      <td>63.145652</td>\n",
       "      <td>2</td>\n",
       "    </tr>\n",
       "    <tr>\n",
       "      <th>1889</th>\n",
       "      <td>z969</td>\n",
       "      <td>Naftisol</td>\n",
       "      <td>Male</td>\n",
       "      <td>9</td>\n",
       "      <td>30</td>\n",
       "      <td>30</td>\n",
       "      <td>65.841013</td>\n",
       "      <td>3</td>\n",
       "    </tr>\n",
       "    <tr>\n",
       "      <th>1890</th>\n",
       "      <td>z969</td>\n",
       "      <td>Naftisol</td>\n",
       "      <td>Male</td>\n",
       "      <td>9</td>\n",
       "      <td>30</td>\n",
       "      <td>35</td>\n",
       "      <td>69.176246</td>\n",
       "      <td>4</td>\n",
       "    </tr>\n",
       "    <tr>\n",
       "      <th>1891</th>\n",
       "      <td>z969</td>\n",
       "      <td>Naftisol</td>\n",
       "      <td>Male</td>\n",
       "      <td>9</td>\n",
       "      <td>30</td>\n",
       "      <td>40</td>\n",
       "      <td>70.314904</td>\n",
       "      <td>4</td>\n",
       "    </tr>\n",
       "    <tr>\n",
       "      <th>1892</th>\n",
       "      <td>z969</td>\n",
       "      <td>Naftisol</td>\n",
       "      <td>Male</td>\n",
       "      <td>9</td>\n",
       "      <td>30</td>\n",
       "      <td>45</td>\n",
       "      <td>73.867845</td>\n",
       "      <td>4</td>\n",
       "    </tr>\n",
       "  </tbody>\n",
       "</table>\n",
       "<p>1883 rows × 8 columns</p>\n",
       "</div>"
      ],
      "text/plain": [
       "     Mouse ID Drug Regimen   Sex  Age_months  Weight (g)  Timepoint  \\\n",
       "0        k403     Ramicane  Male          21          16          0   \n",
       "1        k403     Ramicane  Male          21          16          5   \n",
       "2        k403     Ramicane  Male          21          16         10   \n",
       "3        k403     Ramicane  Male          21          16         15   \n",
       "4        k403     Ramicane  Male          21          16         20   \n",
       "...       ...          ...   ...         ...         ...        ...   \n",
       "1888     z969     Naftisol  Male           9          30         25   \n",
       "1889     z969     Naftisol  Male           9          30         30   \n",
       "1890     z969     Naftisol  Male           9          30         35   \n",
       "1891     z969     Naftisol  Male           9          30         40   \n",
       "1892     z969     Naftisol  Male           9          30         45   \n",
       "\n",
       "      Tumor Volume (mm3)  Metastatic Sites  \n",
       "0              45.000000                 0  \n",
       "1              38.825898                 0  \n",
       "2              35.014271                 1  \n",
       "3              34.223992                 1  \n",
       "4              32.997729                 1  \n",
       "...                  ...               ...  \n",
       "1888           63.145652                 2  \n",
       "1889           65.841013                 3  \n",
       "1890           69.176246                 4  \n",
       "1891           70.314904                 4  \n",
       "1892           73.867845                 4  \n",
       "\n",
       "[1883 rows x 8 columns]"
      ]
     },
     "execution_count": 1,
     "metadata": {},
     "output_type": "execute_result"
    }
   ],
   "source": [
    "\n",
    "import matplotlib.pyplot as plt\n",
    "import pandas as pd\n",
    "import scipy.stats as st\n",
    "from scipy.stats import linregress\n",
    "from scipy.stats import sem\n",
    "import numpy as np\n",
    "\n",
    "# Study data files\n",
    "mouse_metadata_path = \"data/Mouse_metadata.csv\"\n",
    "study_results_path = \"data/Study_results.csv\"\n",
    "\n",
    "# Read the mouse data and the study results\n",
    "mouse_data = pd.read_csv(mouse_metadata_path)\n",
    "study_info = pd.read_csv(study_results_path)\n",
    "\n",
    "# Combine the data into a single dataset\n",
    "mouse_data_df = pd.merge(mouse_data, study_info, how='outer', on='Mouse ID')\n",
    "\n",
    "# Clean the data removing duplicate data\n",
    "mouse_data_cleaned_df = mouse_data_df.drop_duplicates(subset=['Mouse ID', 'Timepoint'], keep=False)\n",
    "mouse_data_cleaned_df"
   ]
  },
  {
   "cell_type": "markdown",
   "id": "civic-forge",
   "metadata": {},
   "source": [
    "# Summary Statistics"
   ]
  },
  {
   "cell_type": "markdown",
   "id": "social-congo",
   "metadata": {},
   "source": [
    "Mean, Median, Variance, Standard Deviation & Standard Error of the Mean (SEM)"
   ]
  },
  {
   "cell_type": "code",
   "execution_count": 2,
   "id": "individual-colony",
   "metadata": {},
   "outputs": [
    {
     "data": {
      "text/html": [
       "<div>\n",
       "<style scoped>\n",
       "    .dataframe tbody tr th:only-of-type {\n",
       "        vertical-align: middle;\n",
       "    }\n",
       "\n",
       "    .dataframe tbody tr th {\n",
       "        vertical-align: top;\n",
       "    }\n",
       "\n",
       "    .dataframe thead th {\n",
       "        text-align: right;\n",
       "    }\n",
       "</style>\n",
       "<table border=\"1\" class=\"dataframe\">\n",
       "  <thead>\n",
       "    <tr style=\"text-align: right;\">\n",
       "      <th></th>\n",
       "      <th>Mean</th>\n",
       "      <th>Median</th>\n",
       "      <th>Variance</th>\n",
       "      <th>Standard Deviation</th>\n",
       "      <th>SEM</th>\n",
       "    </tr>\n",
       "    <tr>\n",
       "      <th>Drug Regimen</th>\n",
       "      <th></th>\n",
       "      <th></th>\n",
       "      <th></th>\n",
       "      <th></th>\n",
       "      <th></th>\n",
       "    </tr>\n",
       "  </thead>\n",
       "  <tbody>\n",
       "    <tr>\n",
       "      <th>Capomulin</th>\n",
       "      <td>40.675741</td>\n",
       "      <td>41.557809</td>\n",
       "      <td>24.947764</td>\n",
       "      <td>4.994774</td>\n",
       "      <td>0.329346</td>\n",
       "    </tr>\n",
       "    <tr>\n",
       "      <th>Ceftamin</th>\n",
       "      <td>52.591172</td>\n",
       "      <td>51.776157</td>\n",
       "      <td>39.290177</td>\n",
       "      <td>6.268188</td>\n",
       "      <td>0.469821</td>\n",
       "    </tr>\n",
       "    <tr>\n",
       "      <th>Infubinol</th>\n",
       "      <td>52.884795</td>\n",
       "      <td>51.820584</td>\n",
       "      <td>43.128684</td>\n",
       "      <td>6.567243</td>\n",
       "      <td>0.492236</td>\n",
       "    </tr>\n",
       "    <tr>\n",
       "      <th>Ketapril</th>\n",
       "      <td>55.235638</td>\n",
       "      <td>53.698743</td>\n",
       "      <td>68.553577</td>\n",
       "      <td>8.279709</td>\n",
       "      <td>0.603860</td>\n",
       "    </tr>\n",
       "    <tr>\n",
       "      <th>Naftisol</th>\n",
       "      <td>54.331565</td>\n",
       "      <td>52.509285</td>\n",
       "      <td>66.173479</td>\n",
       "      <td>8.134708</td>\n",
       "      <td>0.596466</td>\n",
       "    </tr>\n",
       "  </tbody>\n",
       "</table>\n",
       "</div>"
      ],
      "text/plain": [
       "                   Mean     Median   Variance  Standard Deviation       SEM\n",
       "Drug Regimen                                                               \n",
       "Capomulin     40.675741  41.557809  24.947764            4.994774  0.329346\n",
       "Ceftamin      52.591172  51.776157  39.290177            6.268188  0.469821\n",
       "Infubinol     52.884795  51.820584  43.128684            6.567243  0.492236\n",
       "Ketapril      55.235638  53.698743  68.553577            8.279709  0.603860\n",
       "Naftisol      54.331565  52.509285  66.173479            8.134708  0.596466"
      ]
     },
     "execution_count": 2,
     "metadata": {},
     "output_type": "execute_result"
    }
   ],
   "source": [
    "# Generate a summary statistics table of mean, median, variance, standard deviation and SEM of the tumor volume for each drug regimen\n",
    "\n",
    "mouse_summary_df = mouse_data_cleaned_df.groupby(\"Drug Regimen\")\n",
    "mouse_summary_df\n",
    "\n",
    "# Mean\n",
    "tumor_volume_mean = mouse_summary_df[\"Tumor Volume (mm3)\"].mean()\n",
    "# Median\n",
    "tumor_volume_median = mouse_summary_df[\"Tumor Volume (mm3)\"].median()\n",
    "# Variance\n",
    "tumor_volume_var = mouse_summary_df[\"Tumor Volume (mm3)\"].var()\n",
    "# Standard Deviation\n",
    "tumor_volume_stdev = mouse_summary_df[\"Tumor Volume (mm3)\"].std()\n",
    "# SEM\n",
    "tumor_volume_sem = mouse_summary_df[\"Tumor Volume (mm3)\"].sem()\n",
    "\n",
    "# Create DataFrame holding all calculations\n",
    "mouse_summary_grouped_df = pd.DataFrame({\"Mean\": tumor_volume_mean, \"Median\": tumor_volume_median, \"Variance\": tumor_volume_var, \"Standard Deviation\": tumor_volume_stdev, \"SEM\": tumor_volume_sem})\n",
    "\n",
    "mouse_summary_grouped_df.head()"
   ]
  },
  {
   "cell_type": "markdown",
   "id": "developmental-wings",
   "metadata": {},
   "source": [
    "# Bar Plots"
   ]
  },
  {
   "cell_type": "markdown",
   "id": "periodic-thanksgiving",
   "metadata": {},
   "source": [
    "Number of Measurements for Each Test Drug"
   ]
  },
  {
   "cell_type": "code",
   "execution_count": 3,
   "id": "arbitrary-partition",
   "metadata": {},
   "outputs": [
    {
     "data": {
      "text/plain": [
       "Text(0.5, 1.0, 'Number of Measurements for Each Treatment Regimen')"
      ]
     },
     "execution_count": 3,
     "metadata": {},
     "output_type": "execute_result"
    },
    {
     "data": {
      "image/png": "[encoded data removed]",
      "text/plain": [
       "<Figure size 432x288 with 1 Axes>"
      ]
     },
     "metadata": {
      "needs_background": "light"
     },
     "output_type": "display_data"
    }
   ],
   "source": [
    "# Generate bar plots that show the total number of measurements taken for each treatment regimen throughout the course of the study\n",
    "# Plot a bar chart using Pandas based on the amount of measurements for each \"Drug Regimen\"\n",
    "bar_plot = mouse_data_cleaned_df[\"Drug Regimen\"].value_counts().plot.bar(width=0.8, zorder=3)\n",
    "\n",
    "# Set labels\n",
    "bar_plot.set_xlabel(\"Drug Regimen\")\n",
    "bar_plot.set_ylabel(\"Number of Measurements\")\n",
    "bar_plot.set_title(\"Number of Measurements for Each Treatment Regimen\")"
   ]
  },
  {
   "cell_type": "code",
   "execution_count": 4,
   "id": "iraqi-suggestion",
   "metadata": {},
   "outputs": [
    {
     "data": {
      "image/png": "[encoded data removed]",
      "text/plain": [
       "<Figure size 432x288 with 1 Axes>"
      ]
     },
     "metadata": {
      "needs_background": "light"
     },
     "output_type": "display_data"
    }
   ],
   "source": [
    "#G enerate bar plots that show the total number of measurements taken for each treatment regimen throughout the course of the study\n",
    "# Plot a bar chart using PyPlot based on the amount of measurements for each \"Drug Regimen\"\n",
    "\n",
    "# Calculate teh number of data points for each regimen\n",
    "counts = mouse_data_cleaned_df[\"Drug Regimen\"].value_counts()\n",
    "\n",
    "# Set the x-axis to the length of count\n",
    "x_axis = np.arange(len(counts))\n",
    "\n",
    "# Generate the bar chart using the length of counts as the x-axis, and the values as the y-axis\n",
    "plt.bar(x_axis, counts, width=0.8, zorder=3)\n",
    "\n",
    "# Label tick marks to change from number values to drug names\n",
    "tick_locations = [value for value in x_axis]\n",
    "plt.xticks(tick_locations, counts.index.values)\n",
    "\n",
    "plt.xticks(rotation=90)\n",
    "\n",
    "# Set labels for axes\n",
    "plt.xlabel(\"Drug Regimen\")\n",
    "plt.ylabel(\"Number of Measurements\")\n",
    "plt.title(\"Number of Measurements for Each Treatment Regimen\")\n",
    "\n",
    "plt.show()"
   ]
  },
  {
   "cell_type": "markdown",
   "id": "eastern-compensation",
   "metadata": {},
   "source": [
    "# Pie Plots"
   ]
  },
  {
   "cell_type": "markdown",
   "id": "endless-windows",
   "metadata": {},
   "source": [
    "Gender Analysis of Mice"
   ]
  },
  {
   "cell_type": "code",
   "execution_count": 5,
   "id": "floral-copying",
   "metadata": {
    "tags": []
   },
   "outputs": [
    {
     "data": {
      "text/plain": [
       "Text(0, 0.5, '')"
      ]
     },
     "execution_count": 5,
     "metadata": {},
     "output_type": "execute_result"
    },
    {
     "data": {
      "image/png": "[encoded data removed]",
      "text/plain": [
       "<Figure size 432x288 with 1 Axes>"
      ]
     },
     "metadata": {},
     "output_type": "display_data"
    }
   ],
   "source": [
    "# Generate pie plots that show the distribution of female or male mice in the study\n",
    "# Plot a pie chart using Pandas based on the sex of the mice\n",
    "gender_mice = mouse_data_cleaned_df[\"Sex\"].value_counts()\n",
    "\n",
    "# Plot the pie chart with corresponding percentages\n",
    "pie_plot = gender_mice.plot.pie(autopct=\"%1.1f%%\", startangle=90, title=\"Distribution by Sex\")\n",
    "\n",
    "# Hide y label for cleaner look\n",
    "pie_plot.set_ylabel('')"
   ]
  },
  {
   "cell_type": "code",
   "execution_count": 6,
   "id": "attractive-gambling",
   "metadata": {
    "tags": []
   },
   "outputs": [
    {
     "data": {
      "image/png": "[encoded data removed]",
      "text/plain": [
       "<Figure size 432x288 with 1 Axes>"
      ]
     },
     "metadata": {},
     "output_type": "display_data"
    }
   ],
   "source": [
    "# Generate pie plots that show the distribution of female or male mice in the study\n",
    "# Plot a pie chart using PyPlot based on the sex of the mice\n",
    "\n",
    "gender_mice = mouse_data_cleaned_df[\"Sex\"].value_counts()\n",
    "\n",
    "# Plot the pie chart with corresponding percentages using MatPlotLib\n",
    "plt.pie(gender_mice, labels=gender_mice.index.values, autopct=\"%1.1f%%\", startangle=90)\n",
    "plt.title(\"Distribution by Sex\")\n",
    "\n",
    "plt.show()"
   ]
  },
  {
   "cell_type": "markdown",
   "id": "toxic-nature",
   "metadata": {},
   "source": [
    "# Quartiles Outliers, Boxplot"
   ]
  },
  {
   "cell_type": "markdown",
   "id": "referenced-learning",
   "metadata": {},
   "source": [
    "Analysis of the Effectiveness of the Top Four Drugs"
   ]
  },
  {
   "cell_type": "code",
   "execution_count": 7,
   "id": "killing-destruction",
   "metadata": {},
   "outputs": [
    {
     "data": {
      "text/html": [
       "<div>\n",
       "<style scoped>\n",
       "    .dataframe tbody tr th:only-of-type {\n",
       "        vertical-align: middle;\n",
       "    }\n",
       "\n",
       "    .dataframe tbody tr th {\n",
       "        vertical-align: top;\n",
       "    }\n",
       "\n",
       "    .dataframe thead th {\n",
       "        text-align: right;\n",
       "    }\n",
       "</style>\n",
       "<table border=\"1\" class=\"dataframe\">\n",
       "  <thead>\n",
       "    <tr style=\"text-align: right;\">\n",
       "      <th></th>\n",
       "      <th>Mouse ID</th>\n",
       "      <th>Drug Regimen</th>\n",
       "      <th>Sex</th>\n",
       "      <th>Age_months</th>\n",
       "      <th>Weight (g)</th>\n",
       "      <th>Timepoint</th>\n",
       "      <th>Tumor Volume (mm3)</th>\n",
       "      <th>Metastatic Sites</th>\n",
       "      <th>Max-Timepoint</th>\n",
       "    </tr>\n",
       "  </thead>\n",
       "  <tbody>\n",
       "    <tr>\n",
       "      <th>0</th>\n",
       "      <td>k403</td>\n",
       "      <td>Ramicane</td>\n",
       "      <td>Male</td>\n",
       "      <td>21</td>\n",
       "      <td>16</td>\n",
       "      <td>0</td>\n",
       "      <td>45.000000</td>\n",
       "      <td>0</td>\n",
       "      <td>45</td>\n",
       "    </tr>\n",
       "    <tr>\n",
       "      <th>1</th>\n",
       "      <td>k403</td>\n",
       "      <td>Ramicane</td>\n",
       "      <td>Male</td>\n",
       "      <td>21</td>\n",
       "      <td>16</td>\n",
       "      <td>5</td>\n",
       "      <td>38.825898</td>\n",
       "      <td>0</td>\n",
       "      <td>45</td>\n",
       "    </tr>\n",
       "    <tr>\n",
       "      <th>2</th>\n",
       "      <td>k403</td>\n",
       "      <td>Ramicane</td>\n",
       "      <td>Male</td>\n",
       "      <td>21</td>\n",
       "      <td>16</td>\n",
       "      <td>10</td>\n",
       "      <td>35.014271</td>\n",
       "      <td>1</td>\n",
       "      <td>45</td>\n",
       "    </tr>\n",
       "    <tr>\n",
       "      <th>3</th>\n",
       "      <td>k403</td>\n",
       "      <td>Ramicane</td>\n",
       "      <td>Male</td>\n",
       "      <td>21</td>\n",
       "      <td>16</td>\n",
       "      <td>15</td>\n",
       "      <td>34.223992</td>\n",
       "      <td>1</td>\n",
       "      <td>45</td>\n",
       "    </tr>\n",
       "    <tr>\n",
       "      <th>4</th>\n",
       "      <td>k403</td>\n",
       "      <td>Ramicane</td>\n",
       "      <td>Male</td>\n",
       "      <td>21</td>\n",
       "      <td>16</td>\n",
       "      <td>20</td>\n",
       "      <td>32.997729</td>\n",
       "      <td>1</td>\n",
       "      <td>45</td>\n",
       "    </tr>\n",
       "  </tbody>\n",
       "</table>\n",
       "</div>"
      ],
      "text/plain": [
       "  Mouse ID Drug Regimen   Sex  Age_months  Weight (g)  Timepoint  \\\n",
       "0     k403     Ramicane  Male          21          16          0   \n",
       "1     k403     Ramicane  Male          21          16          5   \n",
       "2     k403     Ramicane  Male          21          16         10   \n",
       "3     k403     Ramicane  Male          21          16         15   \n",
       "4     k403     Ramicane  Male          21          16         20   \n",
       "\n",
       "   Tumor Volume (mm3)  Metastatic Sites  Max-Timepoint  \n",
       "0           45.000000                 0             45  \n",
       "1           38.825898                 0             45  \n",
       "2           35.014271                 1             45  \n",
       "3           34.223992                 1             45  \n",
       "4           32.997729                 1             45  "
      ]
     },
     "execution_count": 7,
     "metadata": {},
     "output_type": "execute_result"
    }
   ],
   "source": [
    "# Find max timepoint for each mouse\n",
    "max_time_df = pd.DataFrame(mouse_data_cleaned_df.groupby(\"Mouse ID\")[\"Timepoint\"].max().sort_values()).reset_index().rename(columns={\"Timepoint\": \"Max-Timepoint\"})\n",
    "max_time_df\n",
    "\n",
    "# Merge with cleaned dataframe\n",
    "merged_mouse_df = pd.merge(mouse_data_cleaned_df, max_time_df, on=\"Mouse ID\")\n",
    "merged_mouse_df.head()"
   ]
  },
  {
   "cell_type": "code",
   "execution_count": 8,
   "id": "certified-excess",
   "metadata": {},
   "outputs": [
    {
     "name": "stdout",
     "output_type": "stream",
     "text": [
      "IQR for Capomulin: 7.781863460000004\n",
      "Lower Bound for Capomulin: 20.70456164999999\n",
      "Upper Bound for Capomulin: 51.83201549\n",
      "Number of Capomulin outliers: 0\n",
      "IQR for Ramicane: 9.098536719999998\n",
      "Lower Bound for Ramicane: 17.912664470000003\n",
      "Upper Bound for Ramicane: 54.30681135\n",
      "Number of Ramicane outliers: 0\n",
      "IQR for Infubinol: 11.477135160000003\n",
      "Lower Bound for Infubinol: 36.83290494999999\n",
      "Upper Bound for Infubinol: 82.74144559000001\n",
      "Number of Infubinol outliers: 1\n",
      "IQR for Ceftamin: 15.577752179999997\n",
      "Lower Bound for Ceftamin: 25.355449580000002\n",
      "Upper Bound for Ceftamin: 87.66645829999999\n",
      "Number of Ceftamin outliers: 0\n"
     ]
    }
   ],
   "source": [
    "# Calculate the final tumor volume of each mouse across four of the most promising treatment regimens\n",
    "# Calculate the quartiles and IQR and quantitatively determine if there are any potential outliers across all four treatment regimens.\n",
    "\n",
    "# Create a new dataframe with only the top four drug regimens\n",
    "top_four = [\"Capomulin\", \"Ramicane\", \"Infubinol\", \"Ceftamin\"]\n",
    "top_four_values = []\n",
    "\n",
    "# Find each from the original dataframe\n",
    "for drug in top_four:\n",
    "    mice_df = merged_mouse_df.loc[merged_mouse_df[\"Drug Regimen\"] == drug]\n",
    "    \n",
    "    # Create a dataframe that only includes rows containing the final timepoint\n",
    "    mice_final_df = mice_df.loc[mice_df[\"Timepoint\"] == mice_df[\"Max-Timepoint\"]]\n",
    "    \n",
    "    # Create a list with all final tumor volume values for each regimen\n",
    "    reg_values = mice_final_df[\"Tumor Volume (mm3)\"]\n",
    "    top_four_values.append(reg_values)\n",
    "    \n",
    "    # Calculate the interquartile rage (IQR) for each regimen\n",
    "    quartiles = reg_values.quantile([.25, .5, .75])\n",
    "    lowerq = quartiles[0.25]\n",
    "    upperq = quartiles[0.75]\n",
    "    iqr = upperq-lowerq\n",
    "    \n",
    "    # Print the IQR\n",
    "    print(f\"IQR for {drug}: {iqr}\")\n",
    "    \n",
    "    # Find upper and lower bounds to identify any outliers\n",
    "    lower_bound = lowerq - (1.5*iqr)\n",
    "    upper_bound = upperq + (1.5*iqr)\n",
    "    \n",
    "    # Print the upper and lower bounds for each regimen\n",
    "    print(f\"Lower Bound for {drug}: {lower_bound}\")\n",
    "    print(f\"Upper Bound for {drug}: {upper_bound}\")\n",
    "    \n",
    "    # Quantitatively check for outliers\n",
    "    outliers_high = reg_values.loc[(mice_final_df[\"Tumor Volume (mm3)\"] >= upper_bound)].count()\n",
    "    outliers_low =  reg_values.loc[(mice_final_df[\"Tumor Volume (mm3)\"] <= lower_bound)].count()\n",
    "    outliers_total = outliers_high+outliers_low\n",
    "    \n",
    "    # Print the number of outliers\n",
    "    print(f\"Number of {drug} outliers: {outliers_total}\")\n",
    "                "
   ]
  },
  {
   "cell_type": "code",
   "execution_count": 9,
   "id": "inside-ready",
   "metadata": {},
   "outputs": [
    {
     "data": {
      "image/png": "[encoded data removed]",
      "text/plain": [
       "<Figure size 432x288 with 1 Axes>"
      ]
     },
     "metadata": {
      "needs_background": "light"
     },
     "output_type": "display_data"
    }
   ],
   "source": [
    "# Generate a box and whisker plot of the final tumor volume for all four treatment regimens\n",
    "# Highlight any potential outliers in the plot by changing their color and style\n",
    "\n",
    "flierprops = dict(marker='o', markerfacecolor='r', markersize=9, markeredgecolor='blue')\n",
    "\n",
    "plt.boxplot(top_four_values, flierprops=flierprops)\n",
    "\n",
    "plt.title(\"Final Tumor Volume by Drug\")\n",
    "plt.ylabel(\"Final Tumor Volume (mm3)\")\n",
    "plt.xticks([1, 2, 3, 4], [\"Capomulin\", \"Ramicane\", \"Infubinol\", \"Ceftamin\"])\n",
    "          \n",
    "plt.show()"
   ]
  },
  {
   "cell_type": "markdown",
   "id": "inclusive-roulette",
   "metadata": {},
   "source": [
    "# Line Plot"
   ]
  },
  {
   "cell_type": "markdown",
   "id": "exterior-pollution",
   "metadata": {},
   "source": [
    "Analysis of Data for a Single Mouse"
   ]
  },
  {
   "cell_type": "code",
   "execution_count": 10,
   "id": "pharmaceutical-beast",
   "metadata": {},
   "outputs": [
    {
     "name": "stdout",
     "output_type": "stream",
     "text": [
      "     Mouse ID Drug Regimen\n",
      "10       s185    Capomulin\n",
      "11       s185    Capomulin\n",
      "12       s185    Capomulin\n",
      "13       s185    Capomulin\n",
      "14       s185    Capomulin\n",
      "...       ...          ...\n",
      "440      i557    Capomulin\n",
      "1452     r157    Capomulin\n",
      "1453     r157    Capomulin\n",
      "1454     r157    Capomulin\n",
      "1455     r157    Capomulin\n",
      "\n",
      "[230 rows x 2 columns]\n"
     ]
    }
   ],
   "source": [
    "# Generate a line plot of tumor volume vs. time point for a mouse that was treated with Capomulin\n",
    "# Print a list of mice tested with Capomulin\n",
    "\n",
    "mice_Capomulin_df = mouse_data_cleaned_df.loc[(mouse_data_cleaned_df[\"Drug Regimen\"] == \"Capomulin\"), [\"Mouse ID\", \"Drug Regimen\"]]\n",
    "print(mice_Capomulin_df)"
   ]
  },
  {
   "cell_type": "code",
   "execution_count": 11,
   "id": "graphic-sunglasses",
   "metadata": {},
   "outputs": [
    {
     "data": {
      "image/png": "[encoded data removed]",
      "text/plain": [
       "<Figure size 432x288 with 1 Axes>"
      ]
     },
     "metadata": {
      "needs_background": "light"
     },
     "output_type": "display_data"
    }
   ],
   "source": [
    "# Generate a line plot of tumor volume vs. time point for a mouse that was treated with Capomulin\n",
    "# Identify a single mouse treated with Capomulin\n",
    "\n",
    "single_mouse = mouse_data_cleaned_df.loc[mouse_data_cleaned_df[\"Mouse ID\"] == \"s185\"]\n",
    "\n",
    "# Plot a line chart with time value on x-axis and tumor volume on y-axis\n",
    "plt.plot(single_mouse[\"Timepoint\"], single_mouse[\"Tumor Volume (mm3)\"], marker='o')\n",
    "\n",
    "# Add labels and title\n",
    "plt.xlabel(\"Time (days)\")\n",
    "plt.ylabel(\"Tumor Volume (mm3)\")\n",
    "plt.title(\"Capomulin Treatment of Mouse s185\")\n",
    "\n",
    "plt.show()"
   ]
  },
  {
   "cell_type": "markdown",
   "id": "descending-beach",
   "metadata": {},
   "source": [
    "# Scatter Plots"
   ]
  },
  {
   "cell_type": "markdown",
   "id": "settled-efficiency",
   "metadata": {},
   "source": [
    "Measuring Capomulin effectiveness by analyzing tumor volume vs. mouse weight"
   ]
  },
  {
   "cell_type": "code",
   "execution_count": 12,
   "id": "controlling-surface",
   "metadata": {},
   "outputs": [
    {
     "data": {
      "text/html": [
       "<div>\n",
       "<style scoped>\n",
       "    .dataframe tbody tr th:only-of-type {\n",
       "        vertical-align: middle;\n",
       "    }\n",
       "\n",
       "    .dataframe tbody tr th {\n",
       "        vertical-align: top;\n",
       "    }\n",
       "\n",
       "    .dataframe thead th {\n",
       "        text-align: right;\n",
       "    }\n",
       "</style>\n",
       "<table border=\"1\" class=\"dataframe\">\n",
       "  <thead>\n",
       "    <tr style=\"text-align: right;\">\n",
       "      <th></th>\n",
       "      <th>Mouse ID</th>\n",
       "      <th>Drug Regimen</th>\n",
       "      <th>Sex</th>\n",
       "      <th>Age_months</th>\n",
       "      <th>Weight (g)</th>\n",
       "      <th>Timepoint</th>\n",
       "      <th>Tumor Volume (mm3)</th>\n",
       "      <th>Metastatic Sites</th>\n",
       "    </tr>\n",
       "  </thead>\n",
       "  <tbody>\n",
       "    <tr>\n",
       "      <th>10</th>\n",
       "      <td>s185</td>\n",
       "      <td>Capomulin</td>\n",
       "      <td>Female</td>\n",
       "      <td>3</td>\n",
       "      <td>17</td>\n",
       "      <td>0</td>\n",
       "      <td>45.000000</td>\n",
       "      <td>0</td>\n",
       "    </tr>\n",
       "    <tr>\n",
       "      <th>11</th>\n",
       "      <td>s185</td>\n",
       "      <td>Capomulin</td>\n",
       "      <td>Female</td>\n",
       "      <td>3</td>\n",
       "      <td>17</td>\n",
       "      <td>5</td>\n",
       "      <td>43.878496</td>\n",
       "      <td>0</td>\n",
       "    </tr>\n",
       "    <tr>\n",
       "      <th>12</th>\n",
       "      <td>s185</td>\n",
       "      <td>Capomulin</td>\n",
       "      <td>Female</td>\n",
       "      <td>3</td>\n",
       "      <td>17</td>\n",
       "      <td>10</td>\n",
       "      <td>37.614948</td>\n",
       "      <td>0</td>\n",
       "    </tr>\n",
       "    <tr>\n",
       "      <th>13</th>\n",
       "      <td>s185</td>\n",
       "      <td>Capomulin</td>\n",
       "      <td>Female</td>\n",
       "      <td>3</td>\n",
       "      <td>17</td>\n",
       "      <td>15</td>\n",
       "      <td>38.177232</td>\n",
       "      <td>0</td>\n",
       "    </tr>\n",
       "    <tr>\n",
       "      <th>14</th>\n",
       "      <td>s185</td>\n",
       "      <td>Capomulin</td>\n",
       "      <td>Female</td>\n",
       "      <td>3</td>\n",
       "      <td>17</td>\n",
       "      <td>20</td>\n",
       "      <td>36.866876</td>\n",
       "      <td>0</td>\n",
       "    </tr>\n",
       "    <tr>\n",
       "      <th>...</th>\n",
       "      <td>...</td>\n",
       "      <td>...</td>\n",
       "      <td>...</td>\n",
       "      <td>...</td>\n",
       "      <td>...</td>\n",
       "      <td>...</td>\n",
       "      <td>...</td>\n",
       "      <td>...</td>\n",
       "    </tr>\n",
       "    <tr>\n",
       "      <th>440</th>\n",
       "      <td>i557</td>\n",
       "      <td>Capomulin</td>\n",
       "      <td>Female</td>\n",
       "      <td>1</td>\n",
       "      <td>24</td>\n",
       "      <td>45</td>\n",
       "      <td>47.685963</td>\n",
       "      <td>1</td>\n",
       "    </tr>\n",
       "    <tr>\n",
       "      <th>1452</th>\n",
       "      <td>r157</td>\n",
       "      <td>Capomulin</td>\n",
       "      <td>Male</td>\n",
       "      <td>22</td>\n",
       "      <td>25</td>\n",
       "      <td>0</td>\n",
       "      <td>45.000000</td>\n",
       "      <td>0</td>\n",
       "    </tr>\n",
       "    <tr>\n",
       "      <th>1453</th>\n",
       "      <td>r157</td>\n",
       "      <td>Capomulin</td>\n",
       "      <td>Male</td>\n",
       "      <td>22</td>\n",
       "      <td>25</td>\n",
       "      <td>5</td>\n",
       "      <td>45.597064</td>\n",
       "      <td>0</td>\n",
       "    </tr>\n",
       "    <tr>\n",
       "      <th>1454</th>\n",
       "      <td>r157</td>\n",
       "      <td>Capomulin</td>\n",
       "      <td>Male</td>\n",
       "      <td>22</td>\n",
       "      <td>25</td>\n",
       "      <td>10</td>\n",
       "      <td>46.059608</td>\n",
       "      <td>0</td>\n",
       "    </tr>\n",
       "    <tr>\n",
       "      <th>1455</th>\n",
       "      <td>r157</td>\n",
       "      <td>Capomulin</td>\n",
       "      <td>Male</td>\n",
       "      <td>22</td>\n",
       "      <td>25</td>\n",
       "      <td>15</td>\n",
       "      <td>46.539206</td>\n",
       "      <td>0</td>\n",
       "    </tr>\n",
       "  </tbody>\n",
       "</table>\n",
       "<p>230 rows × 8 columns</p>\n",
       "</div>"
      ],
      "text/plain": [
       "     Mouse ID Drug Regimen     Sex  Age_months  Weight (g)  Timepoint  \\\n",
       "10       s185    Capomulin  Female           3          17          0   \n",
       "11       s185    Capomulin  Female           3          17          5   \n",
       "12       s185    Capomulin  Female           3          17         10   \n",
       "13       s185    Capomulin  Female           3          17         15   \n",
       "14       s185    Capomulin  Female           3          17         20   \n",
       "...       ...          ...     ...         ...         ...        ...   \n",
       "440      i557    Capomulin  Female           1          24         45   \n",
       "1452     r157    Capomulin    Male          22          25          0   \n",
       "1453     r157    Capomulin    Male          22          25          5   \n",
       "1454     r157    Capomulin    Male          22          25         10   \n",
       "1455     r157    Capomulin    Male          22          25         15   \n",
       "\n",
       "      Tumor Volume (mm3)  Metastatic Sites  \n",
       "10             45.000000                 0  \n",
       "11             43.878496                 0  \n",
       "12             37.614948                 0  \n",
       "13             38.177232                 0  \n",
       "14             36.866876                 0  \n",
       "...                  ...               ...  \n",
       "440            47.685963                 1  \n",
       "1452           45.000000                 0  \n",
       "1453           45.597064                 0  \n",
       "1454           46.059608                 0  \n",
       "1455           46.539206                 0  \n",
       "\n",
       "[230 rows x 8 columns]"
      ]
     },
     "execution_count": 12,
     "metadata": {},
     "output_type": "execute_result"
    }
   ],
   "source": [
    "# Generate a scatter plot of tumor volume vs. mouse weight for the Capomulin treatment regimen\n",
    "# Identify mice treated with Capomulin\n",
    "\n",
    "mice_Capomulin_df = mouse_data_cleaned_df.loc[(mouse_data_cleaned_df[\"Drug Regimen\"] == \"Capomulin\")]\n",
    "mice_Capomulin_df"
   ]
  },
  {
   "cell_type": "code",
   "execution_count": 13,
   "id": "backed-report",
   "metadata": {},
   "outputs": [
    {
     "data": {
      "image/png": "[encoded data removed]",
      "text/plain": [
       "<Figure size 432x288 with 1 Axes>"
      ]
     },
     "metadata": {
      "needs_background": "light"
     },
     "output_type": "display_data"
    }
   ],
   "source": [
    "# Generate a scatter plot of tumor volume vs. mouse weight for the Capomulin treatment regimen\n",
    "# Calculate avg tumor vol for mice\n",
    "\n",
    "avg_tumor_vol_df = pd.DataFrame(mice_Capomulin_df.groupby(\"Mouse ID\")[\"Tumor Volume (mm3)\"].mean().sort_values()).reset_index().rename(columns={\"Tumor Volume (mm3)\": \"avg_tumor_vol\"})\n",
    "\n",
    "# Merge into dataframe\n",
    "avg_tumor_vol_df = pd.merge(mice_Capomulin_df, avg_tumor_vol_df, on=\"Mouse ID\")\n",
    "\n",
    "# Drop duplicates\n",
    "avg_tumor_vol_final_df = avg_tumor_vol_df[[\"Weight (g)\", \"avg_tumor_vol\"]].drop_duplicates()\n",
    "avg_tumor_vol_final_df\n",
    "\n",
    "# Create variables\n",
    "x = avg_tumor_vol_final_df[\"Weight (g)\"]\n",
    "y = avg_tumor_vol_final_df[\"avg_tumor_vol\"]\n",
    "\n",
    "# Create scatter plot\n",
    "plt.scatter(x, y)\n",
    "\n",
    "# Add labels and title\n",
    "plt.xlabel(\"Weight (g)\")\n",
    "plt.ylabel(\"Average Tumor Volume (mm3)\")\n",
    "plt.title(\"Average Tumor Volume by Weight\")\n",
    "\n",
    "plt.show()"
   ]
  },
  {
   "cell_type": "code",
   "execution_count": 14,
   "id": "sunset-criterion",
   "metadata": {},
   "outputs": [
    {
     "name": "stdout",
     "output_type": "stream",
     "text": [
      "The correlation between weight and average tumor volume on the Capomulin regimen is 0.84.\n"
     ]
    },
    {
     "data": {
      "image/png": "[encoded data removed]",
      "text/plain": [
       "<Figure size 432x288 with 1 Axes>"
      ]
     },
     "metadata": {
      "needs_background": "light"
     },
     "output_type": "display_data"
    }
   ],
   "source": [
    "# Calculate the correlation coefficient and linear regression model between mouse weight and average tumor volume for the Capomulin treatment\n",
    "# Plot the linear regression model on top of the previous scatter plot.\n",
    "\n",
    "# Duplicate scatter plot code from above\n",
    "mice_Capomulin_df = mouse_data_cleaned_df.loc[(mouse_data_cleaned_df[\"Drug Regimen\"] == \"Capomulin\")]\n",
    "avg_tumor_vol_df = pd.DataFrame(mice_Capomulin_df.groupby(\"Mouse ID\")[\"Tumor Volume (mm3)\"].mean().sort_values()).reset_index().rename(columns={\"Tumor Volume (mm3)\": \"avg_tumor_vol\"})\n",
    "avg_tumor_vol_df = pd.merge(mice_Capomulin_df, avg_tumor_vol_df, on=\"Mouse ID\")\n",
    "avg_tumor_vol_final_df = avg_tumor_vol_df[[\"Weight (g)\", \"avg_tumor_vol\"]].drop_duplicates()\n",
    "x = avg_tumor_vol_final_df[\"Weight (g)\"]\n",
    "y = avg_tumor_vol_final_df[\"avg_tumor_vol\"]\n",
    "\n",
    "# Calculate the correlation coefficient between mouse weight and tumor vol\n",
    "correlation = st.pearsonr(x, y)\n",
    "\n",
    "# Print the answer to the calculation\n",
    "print(f\"\"\"The correlation between weight and average tumor volume on the Capomulin regimen is {round(correlation[0] ,2)}.\"\"\")\n",
    "\n",
    "# Calculate the linear regression\n",
    "(slope, intercept, rvalue, pvalue, stderr) = linregress(x, y)\n",
    "regress_values = x * slope + intercept\n",
    "line_eq = \"y = \" + str(round(slope,2)) + \"x + \" + str(round(intercept,2))\n",
    "\n",
    "# Plot linear reggression on top of scatter plot\n",
    "plt.scatter(x, y)\n",
    "plt.plot(x, regress_values,\"r-\")\n",
    "\n",
    "# Annotate linear regression\n",
    "plt.annotate(line_eq,(20,37), fontsize=12, color=\"red\")\n",
    "\n",
    "# Add labels and title\n",
    "plt.xlabel(\"Weight (g)\")\n",
    "plt.ylabel(\"Average Tumor Volume (mm3)\")\n",
    "plt.title(\"Average Tumor Volume by Weight\")\n",
    "\n",
    "plt.show()"
   ]
  },
  {
   "cell_type": "code",
   "execution_count": null,
   "id": "particular-doctrine",
   "metadata": {},
   "outputs": [],
   "source": []
  }
 ],
 "metadata": {
  "kernelspec": {
   "display_name": "Python 3",
   "language": "python",
   "name": "python3"
  },
  "language_info": {
   "codemirror_mode": {
    "name": "ipython",
    "version": 3
   },
   "file_extension": ".py",
   "mimetype": "text/x-python",
   "name": "python",
   "nbconvert_exporter": "python",
   "pygments_lexer": "ipython3",
   "version": "3.8.8"
  }
 },
 "nbformat": 4,
 "nbformat_minor": 5
}
